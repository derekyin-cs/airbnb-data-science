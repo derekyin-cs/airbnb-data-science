{
 "cells": [
  {
   "cell_type": "code",
   "execution_count": null,
   "id": "1ed6f260",
   "metadata": {},
   "outputs": [],
   "source": []
  },
  {
   "cell_type": "code",
   "execution_count": null,
   "id": "786cd6d3",
   "metadata": {},
   "outputs": [],
   "source": [
    "\n",
    "\n",
    "import pandas as pd\n",
    "import numpy as np\n",
    "import seaborn as sns\n",
    "sns.set(rc = {'figure.figsize':(18,18)})\n",
    "df = pd.read_csv(r'C:\\Users\\derek\\Documents\\CSE351\\AB_NYC_2019.csv')\n",
    "# First step is to clean the data of any duplicate rows.\n",
    "df.drop_duplicates()\n",
    "# Second step is to check total number of null cells in this dataframe.\n",
    "# Total number of null cells is 20141\n",
    "# We can also check exactly which rows contain null values. \n",
    "\n",
    "\n",
    "# The first step when cleaning this data is to drop all duplicate rows. In the case of this dataset, there are no duplicate rows, so we can then move on to other cleaning techniques. "
   ]
  },
  {
   "cell_type": "code",
   "execution_count": null,
   "id": "0f304605",
   "metadata": {},
   "outputs": [],
   "source": [
    "\n",
    "\n",
    "# first create missing indicator for features with missing data\n",
    "for col in df.columns:\n",
    "    missing = df[col].isnull()\n",
    "    num_missing = np.sum(missing)\n",
    "    \n",
    "    if num_missing > 0:  \n",
    "        print('created missing indicator for: {}'.format(col))\n",
    "        df['{}_ismissing'.format(col)] = missing\n",
    "\n",
    "\n",
    "# then based on the indicator, plot the histogram of missing values\n",
    "ismissing_cols = [col for col in df.columns if 'ismissing' in col]\n",
    "df['num_missing'] = df[ismissing_cols].sum(axis=1)\n",
    "\n",
    "df['num_missing'].value_counts().reset_index().sort_values(by='index').plot.bar(x='index', y='num_missing')\n",
    "\n",
    "\n",
    "# Here I have created a simple bar chart to better visualize which columns contain invalid values / have no values. From this bar chart I now know that the 'reviews per month' column have missing values."
   ]
  },
  {
   "cell_type": "code",
   "execution_count": null,
   "id": "2266e8d4",
   "metadata": {},
   "outputs": [],
   "source": [
    "\n",
    "\n",
    "df['reviews_per_month'] = df['reviews_per_month'].fillna( 0 )\n",
    "# Replacing the null values in \"reviews_per_month\" with 0 reduced total null cells from 20141 to 10089.   \n",
    "print(df.isnull().sum().sum())\n",
    "df.head(30)\n",
    "\n",
    "\n",
    "# Replacing the null values in \"reviews_per_month\" with 0 reduced total null cells from 20141 to 10089."
   ]
  },
  {
   "cell_type": "code",
   "execution_count": null,
   "id": "fc86f05d",
   "metadata": {},
   "outputs": [],
   "source": [
    "\n",
    "\n",
    "# The other columns ('name', 'host_name,' 'last_review') that contain null values cannot be imputed. \n",
    "# This concludes the data cleaning portion.\n",
    "# Now, let's take a look at the number of neighborhoods in this dataset. \n",
    "print(len(pd.unique(df['neighbourhood'])))\n",
    "# There are 221 unique neighborhoods in this dataset. \n",
    "\n",
    "\n",
    "# There are 221 unique neighbourhoods in this dataset. "
   ]
  },
  {
   "cell_type": "code",
   "execution_count": null,
   "id": "305b91c9",
   "metadata": {},
   "outputs": [],
   "source": [
    "\n",
    "\n",
    "#This block of code prints a table that shows the different neighbourhoods. \n",
    "frequency = df['neighbourhood'].value_counts()\n",
    "print(\"Frequency of value in column 'neighbourhood' :\")\n",
    "print(frequency)\n",
    "\n",
    "\n",
    "# Some neighbourhoods only appear once in the dataset. We need to filter these neighbourhoods out before doing our next calculations."
   ]
  },
  {
   "cell_type": "code",
   "execution_count": null,
   "id": "3479659d",
   "metadata": {},
   "outputs": [],
   "source": [
    "\n",
    "\n",
    "# df['neighbourhood'].value_counts()+\n",
    "df2 = df\n",
    "frequency = df2['neighbourhood'].value_counts()\n",
    "for cell in df2['neighbourhood'].unique():\n",
    "    if frequency[cell] < 5:\n",
    "        df2 = df2[df2['neighbourhood'] != cell]\n",
    "\n",
    "df2.groupby('neighbourhood')['price'].mean().sort_values(ascending = False)\n",
    "#Filtering out all neighbourhoods with less than 5 listings, the below table shows the top 5 and bottom 5 priced neighbourhoods.\n",
    "#for i in range(0,221):\n",
    "#    if frequency[i] < 5:\n",
    "        \n",
    "#df2.drop(df2[(frequency[df2.neighbourhood] < 5)])\n",
    "# frequency[]\n",
    "# df.groupby('neighbourhood')['price'].mean().sort_values(ascending = False)\n",
    "# grouped.filter(lambda x: x['neighbourhood'].count() >= 5)\n",
    "# grouped['price'].mean().sort_values(ascending = False)\n",
    "\n",
    "# df.groupby('neighbourhood').filter(lambda x: x.value_counts() >=5)['price'].mean().sort_values(ascending = False)\n",
    "\n",
    "\n",
    "# As shown in the table above, the Top 5 neighbourhoods in regards to mean price are Tribeca, Sea Gate, Riverdale, Battery Park City, and Flatiron District. The Bottom 5 neighbourhoods are Bull's Head, Hunts Point, Tremont, Soundview, and Bronxdale. "
   ]
  },
  {
   "cell_type": "code",
   "execution_count": null,
   "id": "783c23a4",
   "metadata": {},
   "outputs": [],
   "source": [
    "\n",
    "\n",
    "# Now that we have the top 5 and bottom 5 neighbourhoods based on price, we can plot the overall price variation among neighbourhood groups.\n",
    "df2.groupby('neighbourhood_group')['price'].mean().plot.bar(ylabel = 'Average price')\n",
    "# As you can see from this graph, Manhattan has by far the largest mean price for an Airbnb.\n",
    "\n",
    "\n",
    "# When grouping by neighbourhood group and creating a simple bar graph, one can see that Manhattan has by far the highest mean price for AirBnbs."
   ]
  },
  {
   "cell_type": "code",
   "execution_count": null,
   "id": "7cff4a9d",
   "metadata": {},
   "outputs": [],
   "source": [
    "\n",
    "\n",
    "# Now, heatmap and correlation coefficient of all interesting data sets.\n",
    "# As you can see below, there are no strong correlations between any of the data points. \n",
    "dataplot=sns.heatmap(df[['price', 'minimum_nights', 'number_of_reviews', 'availability_365', 'calculated_host_listings_count', 'latitude', 'longitude']].corr(method='pearson'), vmin = -1)\n",
    "\n",
    "\n",
    "# This heatmap shows the Pearson correlation of specific variables. Observe how there are no strong correlations whatsover in the heatmap. "
   ]
  },
  {
   "cell_type": "code",
   "execution_count": null,
   "id": "bd52865a",
   "metadata": {},
   "outputs": [],
   "source": [
    "\n",
    "\n",
    "sns.scatterplot(x = 'longitude', y = 'latitude', data = df, hue = 'neighbourhood_group')\n",
    "# The below scatterplot shows a color-coded grid of AirBnb listings in the NYC area based on borough.\n",
    "\n",
    "\n",
    "# By creating a color-coded scatter plot of all AirBnb locations in the dataset, one can see the distribution of AirBnbs in each borough."
   ]
  },
  {
   "cell_type": "code",
   "execution_count": null,
   "id": "4bb31809",
   "metadata": {},
   "outputs": [],
   "source": [
    "\n",
    "\n",
    "df3 = df[df['price'] < 1000]\n",
    "sns.scatterplot(x = 'longitude', y = 'latitude', data = df3, hue = 'price', palette = 'OrRd', size = 'price', hue_norm = (0, 999))\n",
    "# Below is the scatterplot of all AirBnb locations, color coded to price to identify where the priciest locations are. \n",
    "# The priciest locations are in Manhattan.\n",
    "\n",
    "\n",
    "# This scatterplot again plots the locations of all AirBnbs in the dataset, but instead of coloring by borough, it is colored according to the price of the room. Observing the graph, Manhattan has the densest clusters of highly priced rooms compared to other boroughs."
   ]
  },
  {
   "cell_type": "code",
   "execution_count": null,
   "id": "6055758c",
   "metadata": {},
   "outputs": [],
   "source": [
    "\n",
    "\n",
    "# Now, we create a word cloud based on the words found in the Airbnb listings. \n",
    "from wordcloud import WordCloud\n",
    "import matplotlib as mpl\n",
    "words = df['name'].values\n",
    "wordcloud = WordCloud().generate(str(words))\n",
    "mpl.pyplot.imshow(wordcloud)\n",
    "# As you can see from this word cloud, the most common words found in an Airbnb name include 'Clean' and 'quiet', which are definitely desirable attributes for a property to have.\n",
    "\n",
    "\n",
    "# This word cloud contains the most frequently used words in the description of each AirBnb. By far the most frequent words include Clean and Quiet."
   ]
  },
  {
   "cell_type": "code",
   "execution_count": null,
   "id": "ae6e5ee2",
   "metadata": {},
   "outputs": [],
   "source": [
    "\n",
    "\n",
    "df.groupby('neighbourhood_group')['calculated_host_listings_count'].mean().plot.bar(ylabel = '# Host listings')\n",
    "# From this bar plot, we can see that the average # host listings is highest in Manhattan and around the same for the Bronx, Brooklyn, and Staten Island.\n",
    "\n",
    "\n",
    "# From this bar plot, we can see that the average # host listings is highest in Manhattan and around the same for the Bronx, Brooklyn, and Staten Island."
   ]
  },
  {
   "cell_type": "code",
   "execution_count": null,
   "id": "e03188fa",
   "metadata": {},
   "outputs": [],
   "source": [
    "\n",
    "\n",
    "dataplot=sns.heatmap(df[['price', 'number_of_reviews', 'availability_365', 'calculated_host_listings_count']].corr(method='pearson'), vmin = -1).set(title = \"Correlation heatmap\")\n",
    "\n",
    "# This heatmap shows there is no strong correlation between calculated host listings count and any other variable. \n",
    "\n",
    "\n",
    "# This correlation coefficient heatmap again shows the weak correlation among all variables. "
   ]
  },
  {
   "cell_type": "code",
   "execution_count": null,
   "id": "5ddf464b",
   "metadata": {},
   "outputs": [],
   "source": [
    "\n",
    "\n",
    "\n",
    "sns.boxplot(x='room_type', y = 'availability_365', data = df).set(title = \"Types of Rooms and Availability\")\n",
    "# This boxplot shows how the availability of a room is dependent on the type of room. As you can see, shared rooms have a higher median and 3rd quartile of availability.\n",
    "\n",
    "\n",
    "# This boxplot is used to show the dependence of the availability of a room on the type of room. Shared rooms have a higher median and 3rd quartile of available days."
   ]
  },
  {
   "cell_type": "code",
   "execution_count": null,
   "id": "579b9646",
   "metadata": {},
   "outputs": [],
   "source": [
    "\n",
    "\n",
    "df['room_type'].value_counts().plot.pie(title = 'Types of Rooms')\n",
    "# This pie char shows the distribution of types of rooms. Shared rooms are by far the least frequent listing. \n",
    "\n",
    "\n",
    "# This pie chart shows the distrbution of frequency of types of rooms. Shared rooms are by far the least frequent listings. "
   ]
  }
 ],
 "metadata": {
  "jupytext": {
   "cell_metadata_filter": "-all",
   "encoding": "# coding: utf-8",
   "executable": "/usr/bin/env python",
   "main_language": "python",
   "notebook_metadata_filter": "-all"
  }
 },
 "nbformat": 4,
 "nbformat_minor": 5
}
